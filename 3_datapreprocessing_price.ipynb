{
 "cells": [
  {
   "cell_type": "markdown",
   "metadata": {},
   "source": [
    "# 3 Data Preprocessing (Price)"
   ]
  },
  {
   "cell_type": "code",
   "execution_count": 1,
   "metadata": {},
   "outputs": [],
   "source": [
    "import numpy as np\n",
    "import pandas as pd\n",
    "\n",
    "%matplotlib inline\n",
    " \n",
    "import matplotlib.pyplot as plt\n",
    "import matplotlib.image as mpimg\n",
    "\n",
    "import pickle"
   ]
  },
  {
   "cell_type": "code",
   "execution_count": 3,
   "metadata": {},
   "outputs": [],
   "source": [
    "# read dataset\n",
    "sales_test_val = pd.read_pickle('dataset/sales_test_val.pkl')\n",
    "calendar = pd.read_pickle('dataset/calendar.pkl')\n",
    "sell_prices = pd.read_pickle('dataset/sell_price.pkl')\n",
    "matrix = pd.read_pickle('dataset/simple_matrix.pkl')"
   ]
  },
  {
   "cell_type": "code",
   "execution_count": 6,
   "metadata": {},
   "outputs": [],
   "source": [
    "df_price = sales_test_val\n",
    "df_price = df_price.set_index(\"id\")\n",
    "df_price = df_price.iloc[:, 5:].stack().reset_index()\n"
   ]
  },
  {
   "cell_type": "code",
   "execution_count": 7,
   "metadata": {},
   "outputs": [
    {
     "data": {
      "text/html": [
       "<div>\n",
       "<style scoped>\n",
       "    .dataframe tbody tr th:only-of-type {\n",
       "        vertical-align: middle;\n",
       "    }\n",
       "\n",
       "    .dataframe tbody tr th {\n",
       "        vertical-align: top;\n",
       "    }\n",
       "\n",
       "    .dataframe thead th {\n",
       "        text-align: right;\n",
       "    }\n",
       "</style>\n",
       "<table border=\"1\" class=\"dataframe\">\n",
       "  <thead>\n",
       "    <tr style=\"text-align: right;\">\n",
       "      <th></th>\n",
       "      <th>id</th>\n",
       "      <th>level_1</th>\n",
       "      <th>0</th>\n",
       "    </tr>\n",
       "  </thead>\n",
       "  <tbody>\n",
       "    <tr>\n",
       "      <th>0</th>\n",
       "      <td>HOBBIES_1_001_CA_1_evaluation</td>\n",
       "      <td>d_1</td>\n",
       "      <td>0</td>\n",
       "    </tr>\n",
       "    <tr>\n",
       "      <th>1</th>\n",
       "      <td>HOBBIES_1_001_CA_1_evaluation</td>\n",
       "      <td>d_2</td>\n",
       "      <td>0</td>\n",
       "    </tr>\n",
       "    <tr>\n",
       "      <th>2</th>\n",
       "      <td>HOBBIES_1_001_CA_1_evaluation</td>\n",
       "      <td>d_3</td>\n",
       "      <td>0</td>\n",
       "    </tr>\n",
       "    <tr>\n",
       "      <th>3</th>\n",
       "      <td>HOBBIES_1_001_CA_1_evaluation</td>\n",
       "      <td>d_4</td>\n",
       "      <td>0</td>\n",
       "    </tr>\n",
       "    <tr>\n",
       "      <th>4</th>\n",
       "      <td>HOBBIES_1_001_CA_1_evaluation</td>\n",
       "      <td>d_5</td>\n",
       "      <td>0</td>\n",
       "    </tr>\n",
       "    <tr>\n",
       "      <th>...</th>\n",
       "      <td>...</td>\n",
       "      <td>...</td>\n",
       "      <td>...</td>\n",
       "    </tr>\n",
       "    <tr>\n",
       "      <th>59181085</th>\n",
       "      <td>FOODS_3_827_WI_3_evaluation</td>\n",
       "      <td>d_1937</td>\n",
       "      <td>0</td>\n",
       "    </tr>\n",
       "    <tr>\n",
       "      <th>59181086</th>\n",
       "      <td>FOODS_3_827_WI_3_evaluation</td>\n",
       "      <td>d_1938</td>\n",
       "      <td>2</td>\n",
       "    </tr>\n",
       "    <tr>\n",
       "      <th>59181087</th>\n",
       "      <td>FOODS_3_827_WI_3_evaluation</td>\n",
       "      <td>d_1939</td>\n",
       "      <td>2</td>\n",
       "    </tr>\n",
       "    <tr>\n",
       "      <th>59181088</th>\n",
       "      <td>FOODS_3_827_WI_3_evaluation</td>\n",
       "      <td>d_1940</td>\n",
       "      <td>5</td>\n",
       "    </tr>\n",
       "    <tr>\n",
       "      <th>59181089</th>\n",
       "      <td>FOODS_3_827_WI_3_evaluation</td>\n",
       "      <td>d_1941</td>\n",
       "      <td>1</td>\n",
       "    </tr>\n",
       "  </tbody>\n",
       "</table>\n",
       "<p>59181090 rows × 3 columns</p>\n",
       "</div>"
      ],
      "text/plain": [
       "                                     id level_1  0\n",
       "0         HOBBIES_1_001_CA_1_evaluation     d_1  0\n",
       "1         HOBBIES_1_001_CA_1_evaluation     d_2  0\n",
       "2         HOBBIES_1_001_CA_1_evaluation     d_3  0\n",
       "3         HOBBIES_1_001_CA_1_evaluation     d_4  0\n",
       "4         HOBBIES_1_001_CA_1_evaluation     d_5  0\n",
       "...                                 ...     ... ..\n",
       "59181085    FOODS_3_827_WI_3_evaluation  d_1937  0\n",
       "59181086    FOODS_3_827_WI_3_evaluation  d_1938  2\n",
       "59181087    FOODS_3_827_WI_3_evaluation  d_1939  2\n",
       "59181088    FOODS_3_827_WI_3_evaluation  d_1940  5\n",
       "59181089    FOODS_3_827_WI_3_evaluation  d_1941  1\n",
       "\n",
       "[59181090 rows x 3 columns]"
      ]
     },
     "execution_count": 7,
     "metadata": {},
     "output_type": "execute_result"
    }
   ],
   "source": [
    "df_price"
   ]
  },
  {
   "cell_type": "code",
   "execution_count": 9,
   "metadata": {},
   "outputs": [],
   "source": [
    "df_price = pd.merge(df_price, calendar.iloc[:, 1:7], left_on='level_1', right_on='d')\n",
    "sell_prices['store_id'] = sell_prices['item_id'].str.cat(sell_prices['store_id'], sep=\"_\") + \"_evaluation\"\n",
    "sell_prices = sell_prices.drop(\"item_id\", axis=1)\n",
    "df_price = pd.merge(df_price, sell_prices, left_on=['wm_yr_wk', \"id\"], right_on=['wm_yr_wk', \"store_id\"])\n",
    "df_price = df_price.iloc[:, [8, 9, 10]]\n",
    "df_price"
   ]
  },
  {
   "cell_type": "code",
   "execution_count": null,
   "metadata": {},
   "outputs": [],
   "source": [
    "df_price.to_pickle('dataset/df_price_train.pkl')"
   ]
  },
  {
   "cell_type": "code",
   "execution_count": null,
   "metadata": {},
   "outputs": [],
   "source": [
    "list_index = pd.unique(calendar[\"d\"])\n",
    "df = pd.DataFrame({ 'd' : list_index})\n",
    "list_index = pd.unique(df_price[\"store_id\"])\n",
    "\n",
    "for i in range(len(pd.unique(list_index))):\n",
    "    temp = df_price[df_price[\"store_id\"] == list_index[i]]\n",
    "    temp = temp.pivot_table(values=['sell_price'], index=['d'], columns=['store_id'], aggfunc='sum')\n",
    "    temp.columns=temp.columns.get_level_values(1)\n",
    "    temp = temp.reset_index()\n",
    "    df =  pd.merge(df, temp, how = \"left\")\n",
    "    \n",
    "df = df.set_index(\"d\")"
   ]
  },
  {
   "cell_type": "code",
   "execution_count": null,
   "metadata": {},
   "outputs": [],
   "source": [
    "list_index = pd.unique(calendar[\"d\"].tail(28))\n",
    "df_predict = pd.DataFrame({ 'd' : list_index})\n",
    "df_predict = pd.merge(df_predict, calendar.iloc[:, 1:7])\n",
    "item_index = sales_test_val.columns.values"
   ]
  },
  {
   "cell_type": "code",
   "execution_count": null,
   "metadata": {},
   "outputs": [],
   "source": [
    "for i in range(len(df.columns.values)):\n",
    "    r = sell_prices[sell_prices[\"store_id\"] == df.columns.values[i]]\n",
    "    r = r.rename(columns={'sell_price': df.columns.values[i]})\n",
    "    df_predict = pd.merge(df_predict, r.iloc[:, 1:3])\n",
    "df_predict = df_predict.set_index(\"d\")\n",
    "df_predict =df_predict.iloc[:, 5:]"
   ]
  },
  {
   "cell_type": "code",
   "execution_count": null,
   "metadata": {},
   "outputs": [],
   "source": [
    "df = pd.concat([df, df_predict], axis=0)"
   ]
  },
  {
   "cell_type": "code",
   "execution_count": null,
   "metadata": {},
   "outputs": [],
   "source": [
    "# 出力\n",
    "df.to_pickle('dataset/df_price_predict.pkl')"
   ]
  },
  {
   "cell_type": "code",
   "execution_count": null,
   "metadata": {},
   "outputs": [],
   "source": []
  }
 ],
 "metadata": {
  "kernelspec": {
   "display_name": "Python 3",
   "language": "python",
   "name": "python3"
  },
  "language_info": {
   "codemirror_mode": {
    "name": "ipython",
    "version": 3
   },
   "file_extension": ".py",
   "mimetype": "text/x-python",
   "name": "python",
   "nbconvert_exporter": "python",
   "pygments_lexer": "ipython3",
   "version": "3.7.3"
  }
 },
 "nbformat": 4,
 "nbformat_minor": 2
}
