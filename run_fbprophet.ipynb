{
 "cells": [
  {
   "cell_type": "markdown",
   "metadata": {},
   "source": [
    "# Run prophet"
   ]
  },
  {
   "cell_type": "markdown",
   "metadata": {
    "colab_type": "text",
    "id": "Ja1Ad03xjNF4"
   },
   "source": [
    "# About `prophet`\n",
    "prophet References: https://facebook.github.io/prophet/docs/quick_start.html <br>\n",
    "Github: https://github.com/facebook/prophet <br>"
   ]
  },
  {
   "cell_type": "code",
   "execution_count": 2,
   "metadata": {
    "ExecuteTime": {
     "end_time": "2020-06-28T15:07:44.606286Z",
     "start_time": "2020-06-28T15:07:43.539623Z"
    },
    "colab": {
     "base_uri": "https://localhost:8080/",
     "height": 34
    },
    "colab_type": "code",
    "executionInfo": {
     "elapsed": 666,
     "status": "ok",
     "timestamp": 1593510198312,
     "user": {
      "displayName": "橋本龍太郎",
      "photoUrl": "",
      "userId": "10321418847109405418"
     },
     "user_tz": -540
    },
    "id": "H3B-knw_jNFb",
    "outputId": "217e1fa6-bc98-459f-d691-071bbcbeec12"
   },
   "outputs": [
    {
     "name": "stderr",
     "output_type": "stream",
     "text": [
      "ERROR:fbprophet.plot:Importing plotly failed. Interactive plots will not work.\n"
     ]
    }
   ],
   "source": [
    "import numpy as np\n",
    "import pandas as pd\n",
    "pd.set_option(\"display.max_rows\", 100)\n",
    "import pickle\n",
    "from matplotlib import pyplot as plt\n",
    "import matplotlib.pyplot as plt\n",
    "%matplotlib inline\n",
    "\n",
    "# pystan & prophet\n",
    "\n",
    "import pystan\n",
    "from fbprophet import Prophet\n",
    "pd.plotting.register_matplotlib_converters()\n"
   ]
  },
  {
   "cell_type": "code",
   "execution_count": 28,
   "metadata": {
    "colab": {},
    "colab_type": "code",
    "id": "5mDSgsKXcMg8"
   },
   "outputs": [],
   "source": [
    "# set which items are predicted by adjusting n, start, end.\n",
    "# Currentry this model predicts first 10 items\n",
    "# If you predict all items, run from n = 1 to n = 32\n",
    "n = 1\n",
    "start = 0\n",
    "# start = 0 + 1000*(n-1)\n",
    "end = 10\n",
    "# end = 1000 + 1000*(n-1)"
   ]
  },
  {
   "cell_type": "code",
   "execution_count": 3,
   "metadata": {
    "colab": {},
    "colab_type": "code",
    "id": "EunWJ1eeIuiO"
   },
   "outputs": [],
   "source": [
    "# read data\n",
    "df = pd.read_pickle('../data_preprocessing/dataset/simple_matrix.pkl') ## df is main y matrix\n",
    "date_df = pd.read_pickle('../data_preprocessing/dataset/calendar.pkl')\n",
    "price_train = pd.read_pickle('../data_preprocessing/dataset/df_price_train.pkl').set_index(\"d\")\n",
    "price_predict = pd.read_pickle('../data_preprocessing/dataset/df_price_predict.pkl')\n",
    "df_calendar = pd.read_pickle('../data_preprocessing/dataset/df_calendar.pkl')"
   ]
  },
  {
   "cell_type": "code",
   "execution_count": 17,
   "metadata": {
    "colab": {},
    "colab_type": "code",
    "id": "lAxanQWiFoFp"
   },
   "outputs": [],
   "source": [
    "def linear_part(price_train, price_predict, calender, item_name):\n",
    "        train = price_train[price_train[\"store_id\"] == item_name]\n",
    "        predict = price_predict.tail(28)[item_name]\n",
    "        seg= pd.concat([train[\"sell_price\"], predict])\n",
    "        seg = pd.DataFrame(seg)\n",
    "        seg.columns = [\"price\"]\n",
    "        res =  pd.merge(calender, seg, left_on=\"d\", right_on=\"d\", how = \"left\")\n",
    "        \n",
    "        return res\n",
    "\n",
    "# Change the date column to be readable on prophet\n",
    "def day_format_converter(df, name_id, calendar):\n",
    "    # name_id is the column name of date id in the dataframe\n",
    "    calendar_temp = calendar[[\"date\", \"d\"]]\n",
    "    calendar_temp = calendar_temp.rename(columns={'date': 'ds'})\n",
    "    df = pd.merge(df, calendar_temp, left_on=name_id, right_on='d')\n",
    "    df = df.drop([name_id, \"d\"], axis=1)\n",
    "\n",
    "    return df"
   ]
  },
  {
   "cell_type": "code",
   "execution_count": 18,
   "metadata": {
    "colab": {},
    "colab_type": "code",
    "id": "0ULedlBJFJZM"
   },
   "outputs": [],
   "source": [
    "# Create event dataframe\n",
    "playoffs = pd.DataFrame({\n",
    "  'holiday': 'playoff',\n",
    "  'ds': pd.to_datetime(['2011-01-08',\n",
    "                        '2013-01-12',\n",
    "                        '2014-01-12', \n",
    "                        '2014-01-19',\n",
    "                        '2014-02-02',\n",
    "                        '2015-01-11', \n",
    "                        '2016-01-17',\n",
    "                        '2016-01-24', \n",
    "                        '2016-02-07']),\n",
    "  'lower_window': 0, # Seemingly affecting on the past\n",
    "  'upper_window': 1, # Seemingly affecting on the future\n",
    "})\n",
    "superbowls = pd.DataFrame({\n",
    "  'holiday': 'superbowl',\n",
    "  'ds': pd.to_datetime(['2011-02-06',\n",
    "                        '2012-02-05',\n",
    "                        '2013-02-03',\n",
    "                        '2014-02-02', \n",
    "                        '2015-02-01',\n",
    "                        '2016-02-07',]),\n",
    "  'lower_window': 0,\n",
    "  'upper_window': 1,\n",
    "})\n",
    "\n",
    "\n",
    "# Sum up two events\n",
    "holidays = pd.concat((playoffs, superbowls))"
   ]
  },
  {
   "cell_type": "markdown",
   "metadata": {
    "colab_type": "text",
    "id": "VwuIdVjRHPJQ"
   },
   "source": [
    "# Run model"
   ]
  },
  {
   "cell_type": "code",
   "execution_count": 29,
   "metadata": {
    "colab": {},
    "colab_type": "code",
    "id": "j_lFPXLEC5sv"
   },
   "outputs": [],
   "source": [
    "df_forecast = pd.DataFrame()\n",
    "for i in range(start, end):\n",
    "    item_name = df.columns[i]\n",
    "\n",
    "    # preprocessing\n",
    "    df_y = df.rename({item_name: \"y\"}, axis=1)\n",
    "    df_y['floor'] = 0\n",
    "\n",
    "    reggresors = linear_part(price_train, price_predict, df_calendar, item_name)\n",
    "    # 欠損値以外の値が最初に出てくるインデックスを検索(販売開始時点)\n",
    "    start_point = reggresors.reset_index()[reggresors[\"d\"] == reggresors[-pd.isnull(reggresors[\"price\"])].iloc[1, 0]].index[0]\n",
    "\n",
    "    # 販売期間のデータフレーム を作成\n",
    "    df_y = df_y.iloc[start_point-1: , :]\n",
    "    temp = reggresors.iloc[start_point-1: len(df.iloc[start_point-1: , :]) + start_point -1, :].set_index(\"d\")\n",
    "    temp = temp.fillna(reggresors[\"price\"].max() *3)\n",
    "    reggresors_list = temp.columns\n",
    "    df_y = pd.concat([df_y, temp], axis = 1)\n",
    "\n",
    "    # Execute the function\n",
    "    df_y = day_format_converter(df_y.reset_index(), \"d\", date_df)\n",
    "\n",
    "    # Construct model\n",
    "    if df_y[\"y\"].mean() >= 20:\n",
    "        model = Prophet(yearly_seasonality = True, \n",
    "                        weekly_seasonality = True, \n",
    "                        daily_seasonality = False,\n",
    "                        changepoint_prior_scale=0.05,\n",
    "                        holidays=holidays,\n",
    "                        seasonality_mode='multiplicative',\n",
    "                        )\n",
    "        model.add_country_holidays(country_name='US')\n",
    "\n",
    "    else:\n",
    "        model = Prophet(yearly_seasonality = True, \n",
    "                        weekly_seasonality = True, \n",
    "                        daily_seasonality = False,\n",
    "                        changepoint_prior_scale=0.05,\n",
    "                        holidays=holidays,\n",
    "                        seasonality_mode='additive',\n",
    "                        )\n",
    "        model.add_country_holidays(country_name='US')\n",
    "\n",
    "    for j in reggresors_list:\n",
    "        model.add_regressor(j, standardize='auto')\n",
    "\n",
    "    forecast = model.fit(df_y)\n",
    "\n",
    "    # 予測期間のデータフレームを作成\n",
    "    future = model.make_future_dataframe(periods=28, freq='D')\n",
    "    future = pd.concat([future.set_index(\"ds\"), \n",
    "                        day_format_converter(reggresors.iloc[start_point-1: , :], \"d\", date_df).set_index(\"ds\")], axis = 1)\n",
    "    future = future.reset_index()\n",
    "    future['floor'] = 0\n",
    "    # predict\n",
    "    forecast = model.predict(future)\n",
    "    predict = forecast.tail(56)[\"yhat\"]\n",
    "    predict = predict.reset_index()[\"yhat\"]\n",
    "    predict.name = str(i)\n",
    "    df_forecast = pd.concat([df_forecast, predict], axis = 1)"
   ]
  },
  {
   "cell_type": "code",
   "execution_count": 30,
   "metadata": {
    "colab": {},
    "colab_type": "code",
    "id": "ChnVJypo8qT9"
   },
   "outputs": [],
   "source": [
    "path = \"output/\" + str(n) + \".pkl\"\n",
    "df_forecast.to_pickle(path)"
   ]
  },
  {
   "cell_type": "code",
   "execution_count": null,
   "metadata": {},
   "outputs": [],
   "source": []
  }
 ],
 "metadata": {
  "accelerator": "GPU",
  "colab": {
   "collapsed_sections": [],
   "name": "1.ipynb",
   "provenance": [],
   "toc_visible": true
  },
  "kernelspec": {
   "display_name": "Python 3",
   "language": "python",
   "name": "python3"
  },
  "language_info": {
   "codemirror_mode": {
    "name": "ipython",
    "version": 3
   },
   "file_extension": ".py",
   "mimetype": "text/x-python",
   "name": "python",
   "nbconvert_exporter": "python",
   "pygments_lexer": "ipython3",
   "version": "3.7.3"
  },
  "latex_envs": {
   "LaTeX_envs_menu_present": true,
   "autoclose": false,
   "autocomplete": true,
   "bibliofile": "biblio.bib",
   "cite_by": "apalike",
   "current_citInitial": 1,
   "eqLabelWithNumbers": true,
   "eqNumInitial": 1,
   "hotkeys": {
    "equation": "Ctrl-E",
    "itemize": "Ctrl-I"
   },
   "labels_anchors": false,
   "latex_user_defs": false,
   "report_style_numbering": false,
   "user_envs_cfg": false
  },
  "toc": {
   "base_numbering": 1,
   "nav_menu": {},
   "number_sections": true,
   "sideBar": true,
   "skip_h1_title": false,
   "title_cell": "Table of Contents",
   "title_sidebar": "Contents",
   "toc_cell": false,
   "toc_position": {},
   "toc_section_display": true,
   "toc_window_display": false
  }
 },
 "nbformat": 4,
 "nbformat_minor": 1
}
